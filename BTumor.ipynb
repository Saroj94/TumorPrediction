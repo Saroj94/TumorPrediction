{
 "cells": [
  {
   "cell_type": "markdown",
   "metadata": {},
   "source": [
    "# About Dataset\n",
    "\n",
    "### Brain Tumor Dataset\n",
    "This dataset contains simulated data for brain tumor diagnosis, treatment, and patient details. It consists of 20 columns and 20,000 rows, providing information such as patient demographics, tumor characteristics, symptoms, treatment details, and follow-up requirements. The dataset is designed for machine learning projects focused on predicting the type and severity of brain tumors, as well as understanding various treatment methods and patient outcomes.\n",
    "## Columns:\n",
    "1. Patient_ID: Unique identifier for each patient.\n",
    "2. Age: Age of the patient (in years).\n",
    "3. Gender: Gender of the patient (Male/Female).\n",
    "4. Tumor_Type: Type of tumor (Benign/Malignant).\n",
    "5. Tumor_Size: Size of the tumor in centimeters.\n",
    "6. Location: The part of the brain where the tumor is located (e.g., Frontal, Temporal).\n",
    "7. Histology: The histological type of the tumor (e.g., Astrocytoma, Glioblastoma).\n",
    "8. Stage: The stage of the tumor (I, II, III, IV).\n",
    "9. Symptom_1: The first symptom observed (e.g., Headache, Seizures).\n",
    "10. Symptom_2: The second symptom observed.\n",
    "11. Symptom_3: The third symptom observed.\n",
    "12. Radiation_Treatment: Whether radiation treatment was administered (Yes/No).\n",
    "13. Surgery_Performed: Whether surgery was performed (Yes/No).\n",
    "14. Chemotherapy: Whether chemotherapy was administered (Yes/No).\n",
    "15. Survival_Rate: The estimated survival rate of the patient (percentage).\n",
    "16. Tumor_Growth_Rate: The growth rate of the tumor (cm per month).\n",
    "17. Family_History: Whether the patient has a family history of brain tumors (Yes/No).\n",
    "18. MRI_Result: The result of the MRI scan (Positive/Negative).\n",
    "19. Follow_Up_Required: Whether follow-up is required (Yes/No).\n",
    "20. Treatment_Response: The response to the treatment (Improved/Worsened/Stable).\n",
    "### Intended Use:\n",
    "This dataset can be used for various machine learning tasks, such as:\n",
    "- Tumor classification: Predicting whether a tumor is benign or malignant.\n",
    "- Survival analysis: Estimating the survival rate based on different features like tumor type and treatment.\n",
    "- Outcome prediction: Predicting the treatment response or follow-up requirement."
   ]
  },
  {
   "cell_type": "markdown",
   "metadata": {},
   "source": [
    "# Plans \n",
    "- Summary Statistics\n",
    "- EDA\n",
    "- Feature Engineering\n",
    "- Feature Extraction\n",
    "\n",
    "## Steps\n",
    "- Handling Missing values\n",
    "- Feature Encoding\n",
    "- Feature Scaling\n",
    "- Feature Selection\n",
    "- Feature Engineering\n",
    "- Train Test Splitting\n",
    "- Model Training\n",
    "- Model Evaluation\n",
    "- Hyperparameter Tuning\n",
    "- Best model Selection"
   ]
  },
  {
   "cell_type": "code",
   "execution_count": 20,
   "metadata": {},
   "outputs": [],
   "source": [
    "import pandas as pd\n",
    "import numpy as np\n",
    "import matplotlib.pyplot as plt\n",
    "import seaborn as sns\n",
    "import warnings\n",
    "warnings.filterwarnings('ignore')"
   ]
  },
  {
   "cell_type": "code",
   "execution_count": 6,
   "metadata": {},
   "outputs": [
    {
     "name": "stdout",
     "output_type": "stream",
     "text": []
    }
   ],
   "source": [
    "##loading data\n",
    "bt=pd.read_csv('BTumer.csv')\n",
    "bt.head()"
   ]
  },
  {
   "cell_type": "markdown",
   "metadata": {},
   "source": [
    "## Summary Statistics/EDA"
   ]
  },
  {
   "cell_type": "code",
   "execution_count": 7,
   "metadata": {},
   "outputs": [
    {
     "name": "stdout",
     "output_type": "stream",
     "text": []
    }
   ],
   "source": [
    "bt.info()"
   ]
  },
  {
   "cell_type": "code",
   "execution_count": 8,
   "metadata": {},
   "outputs": [
    {
     "name": "stdout",
     "output_type": "stream",
     "text": []
    }
   ],
   "source": [
    "##shapes of data\n",
    "bt.shape"
   ]
  },
  {
   "cell_type": "code",
   "execution_count": 9,
   "metadata": {},
   "outputs": [
    {
     "name": "stdout",
     "output_type": "stream",
     "text": []
    }
   ],
   "source": [
    "##checking for missing values\n",
    "bt.isnull().sum()"
   ]
  },
  {
   "cell_type": "markdown",
   "metadata": {},
   "source": [
    "## Observe\n",
    "No null value or no missing value exist in the dataset"
   ]
  },
  {
   "cell_type": "code",
   "execution_count": 10,
   "metadata": {},
   "outputs": [],
   "source": [
    "##Droping patient id\n",
    "bt.drop(columns='Patient_ID',axis=1,inplace=True)"
   ]
  },
  {
   "cell_type": "code",
   "execution_count": 11,
   "metadata": {},
   "outputs": [
    {
     "name": "stdout",
     "output_type": "stream",
     "text": []
    }
   ],
   "source": [
    "bt.head()"
   ]
  },
  {
   "cell_type": "code",
   "execution_count": 12,
   "metadata": {},
   "outputs": [
    {
     "name": "stdout",
     "output_type": "stream",
     "text": []
    }
   ],
   "source": [
    "##describe the data\n",
    "bt.describe()"
   ]
  },
  {
   "cell_type": "markdown",
   "metadata": {},
   "source": [
    "## observe\n",
    "- Minimum age is 20, Max is 79 and average age of the patient is 49 years old\n",
    "- Minimum Tumor Size is 0.5 centimeters. maximum is 9.99 cm and the average size of the tumor is 5.2 cm.\n",
    "- Minimum chance of survival rate is 40%, maximum is 99% and on average survival rate is 70.1%.\n",
    "- The average Tumor growth rate is 1.55 CM per month and minimum growth rate per month is 0.100,maximum tumor growth rate per month is 2.999.\n",
    "- Among Numerical features, Survival Rate has the highest variance about 17.27 in comparision with other features. The minimum would be 0.83 for Tumor Growth Rate."
   ]
  },
  {
   "cell_type": "code",
   "execution_count": 13,
   "metadata": {},
   "outputs": [
    {
     "name": "stdout",
     "output_type": "stream",
     "text": []
    }
   ],
   "source": [
    "##checking for unique values\n",
    "bt.columns"
   ]
  },
  {
   "cell_type": "markdown",
   "metadata": {},
   "source": [
    "## Data Preprocessing"
   ]
  },
  {
   "cell_type": "code",
   "execution_count": 14,
   "metadata": {},
   "outputs": [
    {
     "name": "stdout",
     "output_type": "stream",
     "text": []
    }
   ],
   "source": [
    "bt.head()"
   ]
  },
  {
   "cell_type": "code",
   "execution_count": 15,
   "metadata": {},
   "outputs": [
    {
     "name": "stdout",
     "output_type": "stream",
     "text": []
    }
   ],
   "source": [
    "##category columns \n",
    "cat_cols=[cat for cat in bt.columns if bt[cat].dtype=='object']\n",
    "print(cat_cols)\n",
    "print(len(cat_cols))\n"
   ]
  },
  {
   "cell_type": "code",
   "execution_count": 16,
   "metadata": {},
   "outputs": [
    {
     "name": "stdout",
     "output_type": "stream",
     "text": []
    }
   ],
   "source": [
    "##numerical columns\n",
    "num_cols=[num for num in bt.columns if bt[num].dtype!='O']\n",
    "print(num_cols)\n",
    "print(len(num_cols))"
   ]
  },
  {
   "cell_type": "code",
   "execution_count": 17,
   "metadata": {},
   "outputs": [
    {
     "name": "stdout",
     "output_type": "stream",
     "text": []
    }
   ],
   "source": [
    "##checking for unique value count for all categorical values\n",
    "for i in cat_cols:\n",
    "    print(bt[i].value_counts())\n",
    "    print()"
   ]
  },
  {
   "cell_type": "code",
   "execution_count": 19,
   "metadata": {},
   "outputs": [
    {
     "name": "stdout",
     "output_type": "stream",
     "text": []
    }
   ],
   "source": [
    "bt.head()"
   ]
  },
  {
   "cell_type": "markdown",
   "metadata": {},
   "source": [
    "# Data Distribution"
   ]
  },
  {
   "cell_type": "code",
   "execution_count": 39,
   "metadata": {},
   "outputs": [
    {
     "name": "stdout",
     "output_type": "stream",
     "text": []
    },
    {
     "name": "stdout",
     "output_type": "stream",
     "text": []
    }
   ],
   "source": [
    "##correlation among numerical values\n",
    "sns.heatmap(bt[num_cols].corr(),annot=True)"
   ]
  },
  {
   "cell_type": "code",
   "execution_count": 22,
   "metadata": {},
   "outputs": [
    {
     "name": "stdout",
     "output_type": "stream",
     "text": []
    },
    {
     "name": "stdout",
     "output_type": "stream",
     "text": []
    }
   ],
   "source": [
    "sns.displot(bt['Tumor_Size'])"
   ]
  },
  {
   "cell_type": "code",
   "execution_count": 23,
   "metadata": {},
   "outputs": [
    {
     "name": "stdout",
     "output_type": "stream",
     "text": []
    }
   ],
   "source": [
    "## Analysis \n",
    "plt.figure(figsize=(15,13))\n",
    "plt.subplot(3,2,1)\n",
    "sns.barplot(y=bt['Tumor_Size'],x=bt['Tumor_Type'],hue=bt['Tumor_Type'])\n",
    "plt.xlabel(\"Tumor Type\")\n",
    "plt.ylabel(\"Tumor Size\")\n",
    "plt.title(\"Fig-1: Tumor Type vs Size\",fontsize=12, fontweight=\"bold\")\n",
    "plt.legend()\n",
    "\n",
    "plt.subplot(3,2,2)\n",
    "sns.countplot(x=bt['Tumor_Type'],hue=bt['Gender'])\n",
    "plt.xlabel(\"Gender\")\n",
    "plt.ylabel(\"Counts\")\n",
    "plt.title(\"Fig-2: Tumor Type over Gender counts\",fontsize=12, fontweight=\"bold\")\n",
    "plt.legend()\n",
    "\n",
    "plt.subplot(3,2,3)\n",
    "sns.countplot(x=bt['Chemotherapy'],hue=bt['Tumor_Type'])\n",
    "plt.xlabel(\"Chemotherapy requirement\")\n",
    "plt.ylabel(\"Counts\")\n",
    "plt.title(\"Fig-3: Chemotherapy Counts\",fontsize=12, fontweight=\"bold\")\n",
    "plt.legend()\n",
    "\n",
    "plt.subplot(3,2,4)\n",
    "sns.countplot(x=bt['Symptom_1'], hue=bt['Tumor_Type'])\n",
    "plt.title(\"Symptom-1 Tumor\")\n",
    "plt.xlabel(\"Fig-4: Symptom 1\",fontsize=12, fontweight=\"bold\")\n",
    "plt.legend()\n",
    "\n",
    "plt.subplot(3,2,5)\n",
    "sns.countplot(x=bt['Location'],hue=bt['Tumor_Type'])\n",
    "plt.xlabel(\"Brain Parts\")\n",
    "plt.ylabel(\"Counts\")\n",
    "plt.title(\"Fig-5: Parts of Brain affacted by Tumor affects\",fontsize=12, fontweight=\"bold\")\n",
    "\n",
    "plt.subplot(3,2,6)\n",
    "sns.countplot(x=bt['Histology'], hue=bt['Tumor_Type'])\n",
    "plt.title(\"Fig-6: Histology of Tumor Cell\",fontsize=12, fontweight=\"bold\")\n",
    "plt.xlabel(\"Histology\")\n",
    "plt.legend()\n",
    "\n",
    "## Entire figure name\n",
    "plt.figtext(0.5, 0.01, \"Fig-1: Tumor Data Analysis\", ha=\"center\", fontsize=12, fontweight=\"bold\")\n",
    "plt.tight_layout(pad=2.0, h_pad=1.5, w_pad=1.5, rect=[0, 0.03, 1, 0.97]) ##dimension that separates each figure distinctively\n",
    "plt.show() "
   ]
  },
  {
   "cell_type": "markdown",
   "metadata": {},
   "source": [
    "## Observation\n",
    "- In Fig 1: Apperantly the size of the Benign tumor is bit larger than Malignant tumor.\n",
    "- In Fig 2: similarly, the malignent tumor count in female is higher than the male, where Benign tumor count is higher in male than the female.\n",
    "- In fig 3: In comparing both tumor, Benign seems less user of chemotherapy than Malignant tumor.\n",
    "- In Fig 4: Vision issue is more in Malignant, headach is same on both case, seizure is higher in Benign etc.\n",
    "- In Fig 5: Temporal and Parietal part of the brain is highly affected by Malignant than Benign, Frontal and Occipital part of the brain is dominantly affect by Benign than Malignant.\n",
    "- In Fig 6: Astrocytoma,Glioblastoma and Meningioma cell structures are  most likely to be found more in Malignant tumor cells as compare to Benign.\n"
   ]
  },
  {
   "cell_type": "code",
   "execution_count": 33,
   "metadata": {},
   "outputs": [
    {
     "name": "stdout",
     "output_type": "stream",
     "text": []
    }
   ],
   "source": [
    "##Outlier checks\n",
    "sns.boxplot(x=bt['Tumor_Size'])\n",
    "plt.show()"
   ]
  },
  {
   "cell_type": "code",
   "execution_count": 34,
   "metadata": {},
   "outputs": [
    {
     "name": "stdout",
     "output_type": "stream",
     "text": []
    }
   ],
   "source": [
    "sns.boxplot(x=bt['Survival_Rate'])\n",
    "plt.show()"
   ]
  },
  {
   "cell_type": "code",
   "execution_count": 35,
   "metadata": {},
   "outputs": [
    {
     "name": "stdout",
     "output_type": "stream",
     "text": []
    }
   ],
   "source": [
    "num_cols"
   ]
  },
  {
   "cell_type": "code",
   "execution_count": 36,
   "metadata": {},
   "outputs": [
    {
     "name": "stdout",
     "output_type": "stream",
     "text": []
    }
   ],
   "source": [
    "sns.boxplot(x=bt['Tumor_Growth_Rate'])\n",
    "plt.show()"
   ]
  },
  {
   "cell_type": "code",
   "execution_count": 37,
   "metadata": {},
   "outputs": [
    {
     "name": "stdout",
     "output_type": "stream",
     "text": []
    }
   ],
   "source": [
    "sns.boxplot(x=bt['Age'])\n",
    "plt.show()"
   ]
  },
  {
   "cell_type": "markdown",
   "metadata": {},
   "source": [
    "## Splitting the data \n",
    "- Spliting data into Dependent and Independent features using Train-Test Splitting technique before applying any transformation is just because to avoid some sort of Data Leakage. Data leakage is a terminology used to explain the indulgence of test data in a training set."
   ]
  },
  {
   "cell_type": "code",
   "execution_count": 24,
   "metadata": {},
   "outputs": [],
   "source": [
    "## Dependencies for data transformation/feature engineering and model training\n",
    "from sklearn.model_selection import train_test_split\n",
    "from sklearn.compose import ColumnTransformer\n",
    "from sklearn.preprocessing import StandardScaler\n",
    "from sklearn.preprocessing import OneHotEncoder,LabelEncoder,OrdinalEncoder\n",
    "from sklearn.pipeline import make_pipeline,Pipeline\n",
    "\n",
    "##model training dependencies\n",
    "from sklearn.ensemble import RandomForestClassifier\n",
    "from sklearn.svm import SVC\n",
    "from sklearn.linear_model import LogisticRegression\n",
    "from sklearn.tree import DecisionTreeClassifier\n",
    "from sklearn.ensemble import GradientBoostingClassifier\n",
    "from sklearn.ensemble import AdaBoostClassifier\n",
    "from xgboost import XGBClassifier\n",
    "from sklearn.neighbors import KNeighborsClassifier\n",
    "import  lightgbm \n",
    "from lightgbm import LGBMClassifier \n",
    "\n",
    "## Model evaluation metrics\n",
    "from sklearn.metrics import classification_report,accuracy_score,f1_score,recall_score,precision_score,roc_auc_score\n",
    "\n",
    "## Hyperparameter tuning\n",
    "from sklearn.model_selection import GridSearchCV,cross_val_score,RandomizedSearchCV"
   ]
  },
  {
   "cell_type": "markdown",
   "metadata": {},
   "source": [
    "## Dependent and Independent Features"
   ]
  },
  {
   "cell_type": "code",
   "execution_count": 25,
   "metadata": {},
   "outputs": [],
   "source": [
    "##Independent features\n",
    "X=bt.drop(columns='Tumor_Type',axis=1)\n",
    "\n",
    "##Dependent feature\n",
    "y=bt['Tumor_Type']"
   ]
  },
  {
   "cell_type": "code",
   "execution_count": 46,
   "metadata": {},
   "outputs": [],
   "source": [
    "## train test splitting\n",
    "X_train,X_test,y_train,y_test=train_test_split(X,y,test_size=0.20,random_state=42)"
   ]
  },
  {
   "cell_type": "markdown",
   "metadata": {},
   "source": [
    "# Feature Encoding: Handling categorical features\n",
    " In the dataset I have two types of feature present in the dataset:\n",
    " 1. Ordinal categorical Features: I can use either OrdinalEncoding or LabelEncoding technique to convert into numerical feature.\n",
    " 2. Nominal(non-orderd) categorical features: To handle nominal fetaure, we have OneHotEncoding technique.\n",
    "\n",
    " ## Common practice to use encodors\n",
    " 1. ### Label Encoding:\n",
    "    When we have the categorical data that can represent a binary classification like (Male/Female, Yes/No, Positive/Negative), Label encoding would be very helpful.\n",
    "\n",
    "2. ### Ordinal Encoding:\n",
    "    The categorical feature that supposedly an orderd nature of the categorical values like (Educational Level, Review Rating scale etc.)\n",
    "\n",
    "3. ### OneHot Encoding:\n",
    "    It is normally used when none of the above two nature of the features present in the dataset."
   ]
  },
  {
   "cell_type": "code",
   "execution_count": 47,
   "metadata": {},
   "outputs": [
    {
     "name": "stdout",
     "output_type": "stream",
     "text": []
    }
   ],
   "source": [
    "X_train.head()"
   ]
  },
  {
   "cell_type": "markdown",
   "metadata": {},
   "source": [
    "## Feature Engineering Note\n",
    "So, the following feature transformation is only apply on Independent set of feature such as X_train and X_test, Nonetheless,\n",
    "we transform target feture seperately."
   ]
  },
  {
   "cell_type": "code",
   "execution_count": 28,
   "metadata": {},
   "outputs": [],
   "source": [
    "##numerical feature scaling to bring all the numerical features into same range of values\n",
    "##numerical columns\n",
    "num_cols\n",
    "##initialize the object of standardscaler\n",
    "scaler=StandardScaler()\n",
    "\n",
    "\n",
    "## Separating ordinal\n",
    "ordinal_feats=[\"Stage\"]\n",
    "##initialize ordinal encoding\n",
    "ordinalencoder=OrdinalEncoder()\n",
    "\n",
    "\n",
    "##label features\n",
    "label_feats=['Gender','Radiation_Treatment','Surgery_Performed',\n",
    "            'Chemotherapy','Family_History','MRI_Result','Follow_Up_Required']\n",
    "##initialize label encoder object\n",
    "labelencoder=LabelEncoder()\n",
    "\n",
    "##nominal features\n",
    "ohe_feats=['Location','Histology','Symptom_1','Symptom_2','Symptom_3']\n",
    "##initialize onhot encoder object\n",
    "ohencoder=OneHotEncoder(handle_unknown='ignore')\n",
    "\n",
    "\n",
    "\n",
    "##Combine all the transformer with ColumnTransformer\n",
    "preprocessor=ColumnTransformer(transformers=[\n",
    "                                     ('Scaling',scaler,num_cols),\n",
    "                                     ('Ordinal Encoding',ordinalencoder,ordinal_feats),\n",
    "                                     ('Nominal Encoding',ohencoder,ohe_feats)\n",
    "                                 ])"
   ]
  },
  {
   "cell_type": "markdown",
   "metadata": {},
   "source": [
    "## Feature transformation of Independent set of features"
   ]
  },
  {
   "cell_type": "code",
   "execution_count": 29,
   "metadata": {},
   "outputs": [],
   "source": [
    "##LabelEncoder.fit_transform() can only handle one input at a time\n",
    "for i in label_feats:\n",
    "    X_train[i]=labelencoder.fit_transform(X_train[i])\n",
    "    X_test[i]=labelencoder.fit_transform(X_test[i])"
   ]
  },
  {
   "cell_type": "code",
   "execution_count": null,
   "metadata": {},
   "outputs": [
    {
     "name": "stdout",
     "output_type": "stream",
     "text": []
    }
   ],
   "source": [
    "X_train"
   ]
  },
  {
   "cell_type": "code",
   "execution_count": 30,
   "metadata": {},
   "outputs": [],
   "source": [
    "##apply transformation on independent features only\n",
    "X_trainprocess=preprocessor.fit_transform(X_train)\n",
    "##only transform on independent test sets of fetaures to avoid data leakage\n",
    "X_testprocess=preprocessor.transform(X_test)"
   ]
  },
  {
   "cell_type": "code",
   "execution_count": 31,
   "metadata": {},
   "outputs": [
    {
     "name": "stdout",
     "output_type": "stream",
     "text": []
    }
   ],
   "source": [
    "X_trainprocess\n"
   ]
  },
  {
   "cell_type": "markdown",
   "metadata": {},
   "source": [
    "## Transformation on target feature"
   ]
  },
  {
   "cell_type": "code",
   "execution_count": 48,
   "metadata": {},
   "outputs": [],
   "source": [
    "##feature engineering on y_train target feature\n",
    "y_trainprocess=labelencoder.fit_transform(y_train)\n",
    "\n",
    "##y_test target feature\n",
    "y_testprocess=labelencoder.transform(y_test)"
   ]
  },
  {
   "cell_type": "markdown",
   "metadata": {},
   "source": [
    "## Model training with default parameters"
   ]
  },
  {
   "cell_type": "code",
   "execution_count": 49,
   "metadata": {},
   "outputs": [
    {
     "name": "stdout",
     "output_type": "stream",
     "text": []
    }
   ],
   "source": [
    "##models\n",
    "models={\n",
    "    \"Random Forest\":RandomForestClassifier(),\n",
    "    \"Decision Tree\":DecisionTreeClassifier(),\n",
    "    \"Logistic Regression\":LogisticRegression(),\n",
    "    \"Support Vector Machine\":SVC(),\n",
    "    \"Ada-Boost\":AdaBoostClassifier(),\n",
    "    \"XGBoost\":XGBClassifier(),\n",
    "    \"Gradient Boosting\":GradientBoostingClassifier(),\n",
    "    \"KNN\":KNeighborsClassifier(),\n",
    "    \"Lgbm\":LGBMClassifier()\n",
    "    }\n",
    "\n",
    "\n",
    "\n",
    "for i in range(len(list(models))):\n",
    "    model=list(models.values())[i]\n",
    "    model.fit(X_trainprocess,y_trainprocess)\n",
    "\n",
    "    ##prediction of the model\n",
    "    ##prediction on training set\n",
    "    y_predtrain=model.predict(X_trainprocess)\n",
    "    ##prediction on unseen test set\n",
    "    y_predtest=model.predict(X_testprocess)\n",
    "\n",
    "    ##model evaluation on training set\n",
    "    Train_accuracyscore=accuracy_score(y_predtrain,y_trainprocess)\n",
    "    Train_f1score=f1_score(y_predtrain,y_trainprocess)\n",
    "    Train_recallscore=recall_score(y_predtrain,y_trainprocess)\n",
    "    Train_rocauc_score=roc_auc_score(y_predtrain,y_trainprocess)\n",
    "    Train_precisionscore=precision_score(y_predtrain,y_trainprocess)\n",
    "    Train_ClassReport=classification_report(y_predtrain,y_trainprocess)\n",
    "\n",
    "    ##model evaluation on test set(unseen data)\n",
    "    Test_accuracyscore=accuracy_score(y_testprocess,y_predtest)\n",
    "    Test_recallscore=recall_score(y_testprocess,y_predtest)\n",
    "    Test_f1score=f1_score(y_testprocess,y_predtest)\n",
    "    Test_precisionscore=precision_score(y_testprocess,y_predtest)\n",
    "    Test_rocauc_score=roc_auc_score(y_testprocess,y_predtest)\n",
    "    Test_ClassReport=classification_report(y_testprocess,y_predtest)\n",
    "\n",
    "    print(list(models.keys())[i])\n",
    "    print(\"Performance Score of the Training set\")\n",
    "    print(f'Accuracy Score: {Train_accuracyscore}')\n",
    "    print(f'F1 Score: {Train_f1score}')\n",
    "    print(f'Recall Score: {Train_recallscore}')\n",
    "    print(f'Precision Score: {Train_precisionscore}')\n",
    "    print(f'ROC/AUC Score: {Train_accuracyscore}')\n",
    "    print(f'Classification Report: {Train_ClassReport}')\n",
    "    print('*'*35,'\\n')\n",
    "\n",
    "    print(\"Performance Score of the Testing set\")\n",
    "    print(f'Accuracy Score: {Test_accuracyscore}')\n",
    "    print(f'F1 Score: {Test_f1score}')\n",
    "    print(f'Recall Score: {Test_recallscore}')\n",
    "    print(f'Precision Score: {Test_precisionscore}')\n",
    "    print(f'ROC/AUC score: {Test_rocauc_score}')\n",
    "    print(f'Classification Report: {Test_ClassReport}')\n",
    "    print('='*35,'\\n')"
   ]
  },
  {
   "cell_type": "code",
   "execution_count": null,
   "metadata": {},
   "outputs": [
    {
     "name": "stdout",
     "output_type": "stream",
     "text": []
    }
   ],
   "source": []
  },
  {
   "cell_type": "code",
   "execution_count": null,
   "metadata": {},
   "outputs": [
    {
     "name": "stdout",
     "output_type": "stream",
     "text": []
    }
   ],
   "source": [
    "df=[('x',34,'amke'),(56,'gh','son')]\n",
    "\n",
    "for f,s,t in df:\n",
    "    print(f,s,t)\n"
   ]
  },
  {
   "cell_type": "markdown",
   "metadata": {},
   "source": [
    "## Hyperparameter Tunning"
   ]
  },
  {
   "cell_type": "code",
   "execution_count": 50,
   "metadata": {},
   "outputs": [],
   "source": [
    "rf_params={\n",
    "    'max_depth':[5,8,None,15,10],\n",
    "    'n_estimators':[100,200,500,1000],\n",
    "    'min_samples_split':[5,8,15,20],\n",
    "    'max_features':['auto',5,7,8]\n",
    "    }\n",
    "\n",
    "XGB_params={'learning_rate':[0.1,0.01],\n",
    "            'max_depth':[5,8,12,20,30],\n",
    "            'n_estimators':[100,200,300],\n",
    "            'colsample_bytree':[0.5,0.8,1,0.3,0.4]}\n",
    "\n",
    "dt_params={\n",
    "    'criterion':['gini', 'entropy', 'log_loss'],\n",
    "    'splitter':['best', 'random'],\n",
    "    'max_depth':[3,5,10,None],\n",
    "    'min_samples_split':[2,5,10,15,20],\n",
    "    'min_samples_leaf':[1,5,10,15],\n",
    "    'max_leaf_nodes':[10,50,100,None],\n",
    "    'max_features':['auto','sqrt', 'log2']\n",
    "}\n",
    "\n",
    "lg_params={\n",
    "    'C': [0.001, 0.01, 0.1, 1, 10, 100],\n",
    "    'penalty': ['l1', 'l2', 'elasticnet'],\n",
    "    'solver': ['lbfgs', 'liblinear', 'newton-cg', 'newton-cholesky', 'sag', 'saga'],\n",
    "    'max_iter': [100, 500, 1000]\n",
    "}\n",
    "\n",
    "Ada_params={\n",
    "    'n_estimators': [50, 100, 200, 500],\n",
    "    'learning_rate': [0.001, 0.01, 0.1, 0.5, 1],\n",
    "    'algorithm': ['SAMME', 'SAMME.R']   \n",
    "}\n",
    "\n",
    "gb_params={\n",
    "    'loss':['log_loss', 'exponential'],\n",
    "    'learning_rate':[0.001,0.01,0.1,0.5,1],\n",
    "    'n_estimators':[10,50,100,200],\n",
    "    'subsample':[0.01,0.8, 0.9,1],\n",
    "    'criterion':['friedman_mse', 'squared_error'],\n",
    "    'max_depth': [3, 5, 7, 10],\n",
    "    'min_samples_split': [2, 5, 10],\n",
    "    'min_samples_leaf': [1, 5, 10],\n",
    "    'max_features': [None, 'sqrt', 'log2', 0.8],\n",
    "    'loss': ['deviance', 'exponential']\n",
    "}\n",
    "\n",
    "svm_params={\n",
    "    'C':[0.1, 1, 10, 100, 1000],\n",
    "    'kernel': ['linear', 'poly', 'rbf', 'sigmoid'],\n",
    "    'gamma': ['scale', 'auto', 0.001, 0.01, 0.1, 1, 10],\n",
    "    #'degree': [3, 4, 5],  # Only relevant for 'poly' kernel\n",
    "    #'class_weight': ['balanced', None],\n",
    "    #'tol': [1e-3, 1e-4, 1e-5],\n",
    "    'max_iter': [1000, 5000, 10000],\n",
    "    'shrinking': [True, False]\n",
    "}\n",
    "\n",
    "knn_params={\n",
    "    'n_neighbors': [3, 5, 7, 10, 15, 20],\n",
    "    'metric': ['euclidean', 'manhattan', 'minkowski', 'chebyshev'],\n",
    "    'p': [1, 2],  # Only relevant if metric is 'minkowski'\n",
    "    'weights': ['uniform', 'distance'],\n",
    "    'algorithm': ['auto', 'ball_tree', 'kd_tree', 'brute'],\n",
    "    'leaf_size': [10, 20, 30, 40, 50],\n",
    "    'n_jobs': [-1, 1, 2, 4]\n",
    "}"
   ]
  },
  {
   "cell_type": "code",
   "execution_count": 51,
   "metadata": {},
   "outputs": [],
   "source": [
    "##Combine model with its parameters\n",
    "model_param=[\n",
    "    ('rf',RandomForestClassifier(),rf_params),\n",
    "    ('dt',DecisionTreeClassifier(),dt_params),\n",
    "    ('xgb',XGBClassifier(),XGB_params),\n",
    "    ('Ada',AdaBoostClassifier(),Ada_params),\n",
    "    ('Gb',GradientBoostingClassifier(),gb_params),\n",
    "    ('lgr',LogisticRegression(),lg_params),\n",
    "    ('SVM',SVC(),svm_params),\n",
    "    ('KNN',KNeighborsClassifier(),knn_params)\n",
    "]"
   ]
  },
  {
   "cell_type": "markdown",
   "metadata": {},
   "source": [
    "## RandomsearchCv for Hyperparameter Tuning"
   ]
  },
  {
   "cell_type": "code",
   "execution_count": 52,
   "metadata": {},
   "outputs": [
    {
     "name": "stdout",
     "output_type": "stream",
     "text": []
    },
    {
     "name": "stdout",
     "output_type": "stream",
     "text": []
    },
    {
     "name": "stdout",
     "output_type": "stream",
     "text": []
    },
    {
     "name": "stdout",
     "output_type": "stream",
     "text": []
    },
    {
     "name": "stdout",
     "output_type": "stream",
     "text": []
    },
    {
     "name": "stdout",
     "output_type": "stream",
     "text": []
    },
    {
     "name": "stdout",
     "output_type": "stream",
     "text": []
    },
    {
     "name": "stdout",
     "output_type": "stream",
     "text": []
    },
    {
     "name": "stdout",
     "output_type": "stream",
     "text": []
    },
    {
     "name": "stdout",
     "output_type": "stream",
     "text": []
    },
    {
     "name": "stdout",
     "output_type": "stream",
     "text": []
    },
    {
     "name": "stdout",
     "output_type": "stream",
     "text": []
    },
    {
     "name": "stdout",
     "output_type": "stream",
     "text": []
    },
    {
     "name": "stdout",
     "output_type": "stream",
     "text": []
    },
    {
     "name": "stdout",
     "output_type": "stream",
     "text": []
    },
    {
     "name": "stdout",
     "output_type": "stream",
     "text": []
    },
    {
     "name": "stdout",
     "output_type": "stream",
     "text": []
    },
    {
     "name": "stdout",
     "output_type": "stream",
     "text": []
    },
    {
     "name": "stdout",
     "output_type": "stream",
     "text": []
    },
    {
     "name": "stdout",
     "output_type": "stream",
     "text": []
    },
    {
     "name": "stdout",
     "output_type": "stream",
     "text": []
    },
    {
     "name": "stdout",
     "output_type": "stream",
     "text": []
    },
    {
     "name": "stdout",
     "output_type": "stream",
     "text": []
    },
    {
     "name": "stdout",
     "output_type": "stream",
     "text": []
    },
    {
     "name": "stdout",
     "output_type": "stream",
     "text": []
    },
    {
     "name": "stdout",
     "output_type": "stream",
     "text": []
    },
    {
     "name": "stdout",
     "output_type": "stream",
     "text": []
    },
    {
     "name": "stdout",
     "output_type": "stream",
     "text": []
    },
    {
     "name": "stdout",
     "output_type": "stream",
     "text": []
    },
    {
     "name": "stdout",
     "output_type": "stream",
     "text": []
    },
    {
     "name": "stdout",
     "output_type": "stream",
     "text": []
    },
    {
     "name": "stdout",
     "output_type": "stream",
     "text": []
    },
    {
     "name": "stdout",
     "output_type": "stream",
     "text": []
    },
    {
     "name": "stdout",
     "output_type": "stream",
     "text": []
    },
    {
     "name": "stdout",
     "output_type": "stream",
     "text": []
    },
    {
     "name": "stdout",
     "output_type": "stream",
     "text": []
    },
    {
     "name": "stdout",
     "output_type": "stream",
     "text": []
    },
    {
     "name": "stdout",
     "output_type": "stream",
     "text": []
    },
    {
     "name": "stdout",
     "output_type": "stream",
     "text": []
    },
    {
     "name": "stdout",
     "output_type": "stream",
     "text": []
    },
    {
     "name": "stdout",
     "output_type": "stream",
     "text": []
    },
    {
     "name": "stdout",
     "output_type": "stream",
     "text": []
    },
    {
     "name": "stdout",
     "output_type": "stream",
     "text": []
    },
    {
     "name": "stdout",
     "output_type": "stream",
     "text": []
    },
    {
     "name": "stdout",
     "output_type": "stream",
     "text": []
    },
    {
     "name": "stdout",
     "output_type": "stream",
     "text": []
    },
    {
     "name": "stdout",
     "output_type": "stream",
     "text": []
    },
    {
     "name": "stdout",
     "output_type": "stream",
     "text": []
    },
    {
     "name": "stdout",
     "output_type": "stream",
     "text": []
    },
    {
     "name": "stdout",
     "output_type": "stream",
     "text": []
    },
    {
     "name": "stdout",
     "output_type": "stream",
     "text": []
    },
    {
     "name": "stdout",
     "output_type": "stream",
     "text": []
    },
    {
     "name": "stdout",
     "output_type": "stream",
     "text": []
    },
    {
     "name": "stdout",
     "output_type": "stream",
     "text": []
    },
    {
     "name": "stdout",
     "output_type": "stream",
     "text": []
    },
    {
     "name": "stdout",
     "output_type": "stream",
     "text": []
    },
    {
     "name": "stdout",
     "output_type": "stream",
     "text": []
    },
    {
     "name": "stdout",
     "output_type": "stream",
     "text": []
    },
    {
     "name": "stdout",
     "output_type": "stream",
     "text": []
    },
    {
     "name": "stdout",
     "output_type": "stream",
     "text": []
    },
    {
     "name": "stdout",
     "output_type": "stream",
     "text": []
    },
    {
     "name": "stdout",
     "output_type": "stream",
     "text": []
    },
    {
     "name": "stdout",
     "output_type": "stream",
     "text": []
    },
    {
     "name": "stdout",
     "output_type": "stream",
     "text": []
    },
    {
     "name": "stdout",
     "output_type": "stream",
     "text": []
    },
    {
     "name": "stdout",
     "output_type": "stream",
     "text": []
    },
    {
     "name": "stdout",
     "output_type": "stream",
     "text": []
    },
    {
     "name": "stdout",
     "output_type": "stream",
     "text": []
    },
    {
     "name": "stdout",
     "output_type": "stream",
     "text": []
    },
    {
     "name": "stdout",
     "output_type": "stream",
     "text": []
    },
    {
     "name": "stdout",
     "output_type": "stream",
     "text": []
    },
    {
     "name": "stdout",
     "output_type": "stream",
     "text": []
    },
    {
     "name": "stdout",
     "output_type": "stream",
     "text": []
    },
    {
     "name": "stdout",
     "output_type": "stream",
     "text": []
    },
    {
     "name": "stdout",
     "output_type": "stream",
     "text": []
    },
    {
     "name": "stdout",
     "output_type": "stream",
     "text": []
    },
    {
     "name": "stdout",
     "output_type": "stream",
     "text": []
    },
    {
     "name": "stdout",
     "output_type": "stream",
     "text": []
    },
    {
     "name": "stdout",
     "output_type": "stream",
     "text": []
    },
    {
     "name": "stdout",
     "output_type": "stream",
     "text": []
    },
    {
     "name": "stdout",
     "output_type": "stream",
     "text": []
    },
    {
     "name": "stdout",
     "output_type": "stream",
     "text": []
    },
    {
     "name": "stdout",
     "output_type": "stream",
     "text": []
    },
    {
     "name": "stdout",
     "output_type": "stream",
     "text": []
    },
    {
     "name": "stdout",
     "output_type": "stream",
     "text": []
    },
    {
     "name": "stdout",
     "output_type": "stream",
     "text": []
    },
    {
     "name": "stdout",
     "output_type": "stream",
     "text": []
    },
    {
     "name": "stdout",
     "output_type": "stream",
     "text": []
    },
    {
     "name": "stdout",
     "output_type": "stream",
     "text": []
    },
    {
     "name": "stdout",
     "output_type": "stream",
     "text": []
    },
    {
     "name": "stdout",
     "output_type": "stream",
     "text": []
    },
    {
     "name": "stdout",
     "output_type": "stream",
     "text": []
    },
    {
     "name": "stdout",
     "output_type": "stream",
     "text": []
    },
    {
     "name": "stdout",
     "output_type": "stream",
     "text": []
    },
    {
     "name": "stdout",
     "output_type": "stream",
     "text": []
    },
    {
     "name": "stdout",
     "output_type": "stream",
     "text": []
    },
    {
     "name": "stdout",
     "output_type": "stream",
     "text": []
    },
    {
     "name": "stdout",
     "output_type": "stream",
     "text": []
    },
    {
     "name": "stdout",
     "output_type": "stream",
     "text": []
    },
    {
     "name": "stdout",
     "output_type": "stream",
     "text": []
    },
    {
     "name": "stdout",
     "output_type": "stream",
     "text": []
    },
    {
     "name": "stdout",
     "output_type": "stream",
     "text": []
    },
    {
     "name": "stdout",
     "output_type": "stream",
     "text": []
    },
    {
     "name": "stdout",
     "output_type": "stream",
     "text": []
    },
    {
     "name": "stdout",
     "output_type": "stream",
     "text": []
    },
    {
     "name": "stdout",
     "output_type": "stream",
     "text": []
    },
    {
     "name": "stdout",
     "output_type": "stream",
     "text": []
    },
    {
     "name": "stdout",
     "output_type": "stream",
     "text": []
    },
    {
     "name": "stdout",
     "output_type": "stream",
     "text": []
    },
    {
     "name": "stdout",
     "output_type": "stream",
     "text": []
    },
    {
     "name": "stdout",
     "output_type": "stream",
     "text": []
    },
    {
     "name": "stdout",
     "output_type": "stream",
     "text": []
    },
    {
     "name": "stdout",
     "output_type": "stream",
     "text": []
    },
    {
     "name": "stdout",
     "output_type": "stream",
     "text": []
    },
    {
     "name": "stdout",
     "output_type": "stream",
     "text": []
    },
    {
     "name": "stdout",
     "output_type": "stream",
     "text": []
    },
    {
     "name": "stdout",
     "output_type": "stream",
     "text": []
    },
    {
     "name": "stdout",
     "output_type": "stream",
     "text": []
    },
    {
     "name": "stdout",
     "output_type": "stream",
     "text": []
    },
    {
     "name": "stdout",
     "output_type": "stream",
     "text": []
    },
    {
     "name": "stdout",
     "output_type": "stream",
     "text": []
    },
    {
     "name": "stdout",
     "output_type": "stream",
     "text": []
    },
    {
     "name": "stdout",
     "output_type": "stream",
     "text": []
    },
    {
     "name": "stdout",
     "output_type": "stream",
     "text": []
    },
    {
     "name": "stdout",
     "output_type": "stream",
     "text": []
    },
    {
     "name": "stdout",
     "output_type": "stream",
     "text": []
    },
    {
     "name": "stdout",
     "output_type": "stream",
     "text": []
    },
    {
     "name": "stdout",
     "output_type": "stream",
     "text": []
    },
    {
     "name": "stdout",
     "output_type": "stream",
     "text": []
    },
    {
     "name": "stdout",
     "output_type": "stream",
     "text": []
    },
    {
     "name": "stdout",
     "output_type": "stream",
     "text": []
    },
    {
     "name": "stdout",
     "output_type": "stream",
     "text": []
    },
    {
     "name": "stdout",
     "output_type": "stream",
     "text": []
    },
    {
     "name": "stdout",
     "output_type": "stream",
     "text": []
    },
    {
     "name": "stdout",
     "output_type": "stream",
     "text": []
    },
    {
     "name": "stdout",
     "output_type": "stream",
     "text": []
    },
    {
     "name": "stdout",
     "output_type": "stream",
     "text": []
    },
    {
     "name": "stdout",
     "output_type": "stream",
     "text": []
    },
    {
     "name": "stdout",
     "output_type": "stream",
     "text": []
    },
    {
     "name": "stdout",
     "output_type": "stream",
     "text": []
    },
    {
     "name": "stdout",
     "output_type": "stream",
     "text": []
    },
    {
     "name": "stdout",
     "output_type": "stream",
     "text": []
    },
    {
     "name": "stdout",
     "output_type": "stream",
     "text": []
    },
    {
     "name": "stdout",
     "output_type": "stream",
     "text": []
    },
    {
     "name": "stdout",
     "output_type": "stream",
     "text": []
    },
    {
     "name": "stdout",
     "output_type": "stream",
     "text": []
    },
    {
     "name": "stdout",
     "output_type": "stream",
     "text": []
    },
    {
     "name": "stdout",
     "output_type": "stream",
     "text": []
    },
    {
     "name": "stdout",
     "output_type": "stream",
     "text": []
    },
    {
     "name": "stdout",
     "output_type": "stream",
     "text": []
    },
    {
     "name": "stdout",
     "output_type": "stream",
     "text": []
    },
    {
     "name": "stdout",
     "output_type": "stream",
     "text": []
    },
    {
     "name": "stdout",
     "output_type": "stream",
     "text": []
    },
    {
     "name": "stdout",
     "output_type": "stream",
     "text": []
    },
    {
     "name": "stdout",
     "output_type": "stream",
     "text": []
    },
    {
     "name": "stdout",
     "output_type": "stream",
     "text": []
    },
    {
     "name": "stdout",
     "output_type": "stream",
     "text": []
    },
    {
     "name": "stdout",
     "output_type": "stream",
     "text": []
    },
    {
     "name": "stdout",
     "output_type": "stream",
     "text": []
    },
    {
     "name": "stdout",
     "output_type": "stream",
     "text": []
    },
    {
     "name": "stdout",
     "output_type": "stream",
     "text": []
    },
    {
     "name": "stdout",
     "output_type": "stream",
     "text": []
    },
    {
     "name": "stdout",
     "output_type": "stream",
     "text": []
    },
    {
     "name": "stdout",
     "output_type": "stream",
     "text": []
    },
    {
     "name": "stdout",
     "output_type": "stream",
     "text": []
    },
    {
     "name": "stdout",
     "output_type": "stream",
     "text": []
    },
    {
     "name": "stdout",
     "output_type": "stream",
     "text": []
    },
    {
     "name": "stdout",
     "output_type": "stream",
     "text": []
    },
    {
     "name": "stdout",
     "output_type": "stream",
     "text": []
    },
    {
     "name": "stdout",
     "output_type": "stream",
     "text": []
    },
    {
     "name": "stdout",
     "output_type": "stream",
     "text": []
    },
    {
     "name": "stdout",
     "output_type": "stream",
     "text": []
    },
    {
     "name": "stdout",
     "output_type": "stream",
     "text": []
    },
    {
     "name": "stdout",
     "output_type": "stream",
     "text": []
    },
    {
     "name": "stdout",
     "output_type": "stream",
     "text": []
    },
    {
     "name": "stdout",
     "output_type": "stream",
     "text": []
    },
    {
     "name": "stdout",
     "output_type": "stream",
     "text": []
    },
    {
     "name": "stdout",
     "output_type": "stream",
     "text": []
    },
    {
     "name": "stdout",
     "output_type": "stream",
     "text": []
    },
    {
     "name": "stdout",
     "output_type": "stream",
     "text": []
    },
    {
     "name": "stdout",
     "output_type": "stream",
     "text": []
    },
    {
     "name": "stdout",
     "output_type": "stream",
     "text": []
    },
    {
     "name": "stdout",
     "output_type": "stream",
     "text": []
    },
    {
     "name": "stdout",
     "output_type": "stream",
     "text": []
    },
    {
     "name": "stdout",
     "output_type": "stream",
     "text": []
    },
    {
     "name": "stdout",
     "output_type": "stream",
     "text": []
    },
    {
     "name": "stdout",
     "output_type": "stream",
     "text": []
    },
    {
     "name": "stdout",
     "output_type": "stream",
     "text": []
    },
    {
     "name": "stdout",
     "output_type": "stream",
     "text": []
    },
    {
     "name": "stdout",
     "output_type": "stream",
     "text": []
    },
    {
     "name": "stdout",
     "output_type": "stream",
     "text": []
    },
    {
     "name": "stdout",
     "output_type": "stream",
     "text": []
    },
    {
     "name": "stdout",
     "output_type": "stream",
     "text": []
    },
    {
     "name": "stdout",
     "output_type": "stream",
     "text": []
    },
    {
     "name": "stdout",
     "output_type": "stream",
     "text": []
    },
    {
     "name": "stdout",
     "output_type": "stream",
     "text": []
    },
    {
     "name": "stdout",
     "output_type": "stream",
     "text": []
    },
    {
     "name": "stdout",
     "output_type": "stream",
     "text": []
    },
    {
     "name": "stdout",
     "output_type": "stream",
     "text": []
    },
    {
     "name": "stdout",
     "output_type": "stream",
     "text": []
    },
    {
     "name": "stdout",
     "output_type": "stream",
     "text": []
    },
    {
     "name": "stdout",
     "output_type": "stream",
     "text": []
    },
    {
     "name": "stdout",
     "output_type": "stream",
     "text": []
    },
    {
     "name": "stdout",
     "output_type": "stream",
     "text": []
    },
    {
     "name": "stdout",
     "output_type": "stream",
     "text": []
    },
    {
     "name": "stdout",
     "output_type": "stream",
     "text": []
    },
    {
     "name": "stdout",
     "output_type": "stream",
     "text": []
    },
    {
     "name": "stdout",
     "output_type": "stream",
     "text": []
    },
    {
     "name": "stdout",
     "output_type": "stream",
     "text": []
    },
    {
     "name": "stdout",
     "output_type": "stream",
     "text": []
    },
    {
     "name": "stdout",
     "output_type": "stream",
     "text": []
    },
    {
     "name": "stdout",
     "output_type": "stream",
     "text": []
    },
    {
     "name": "stdout",
     "output_type": "stream",
     "text": []
    },
    {
     "name": "stdout",
     "output_type": "stream",
     "text": []
    },
    {
     "name": "stdout",
     "output_type": "stream",
     "text": []
    },
    {
     "name": "stdout",
     "output_type": "stream",
     "text": []
    },
    {
     "name": "stdout",
     "output_type": "stream",
     "text": []
    },
    {
     "name": "stdout",
     "output_type": "stream",
     "text": []
    },
    {
     "name": "stdout",
     "output_type": "stream",
     "text": []
    },
    {
     "name": "stdout",
     "output_type": "stream",
     "text": []
    },
    {
     "name": "stdout",
     "output_type": "stream",
     "text": []
    },
    {
     "name": "stdout",
     "output_type": "stream",
     "text": []
    },
    {
     "name": "stdout",
     "output_type": "stream",
     "text": []
    },
    {
     "name": "stdout",
     "output_type": "stream",
     "text": []
    },
    {
     "name": "stdout",
     "output_type": "stream",
     "text": []
    },
    {
     "name": "stdout",
     "output_type": "stream",
     "text": []
    },
    {
     "name": "stdout",
     "output_type": "stream",
     "text": []
    },
    {
     "name": "stdout",
     "output_type": "stream",
     "text": []
    },
    {
     "name": "stdout",
     "output_type": "stream",
     "text": []
    },
    {
     "name": "stdout",
     "output_type": "stream",
     "text": []
    },
    {
     "name": "stdout",
     "output_type": "stream",
     "text": []
    },
    {
     "name": "stdout",
     "output_type": "stream",
     "text": []
    },
    {
     "name": "stdout",
     "output_type": "stream",
     "text": []
    },
    {
     "name": "stdout",
     "output_type": "stream",
     "text": []
    },
    {
     "name": "stdout",
     "output_type": "stream",
     "text": []
    },
    {
     "name": "stdout",
     "output_type": "stream",
     "text": []
    },
    {
     "name": "stdout",
     "output_type": "stream",
     "text": []
    },
    {
     "name": "stdout",
     "output_type": "stream",
     "text": []
    },
    {
     "name": "stdout",
     "output_type": "stream",
     "text": []
    },
    {
     "name": "stdout",
     "output_type": "stream",
     "text": []
    },
    {
     "name": "stdout",
     "output_type": "stream",
     "text": []
    },
    {
     "name": "stdout",
     "output_type": "stream",
     "text": []
    },
    {
     "name": "stdout",
     "output_type": "stream",
     "text": []
    },
    {
     "name": "stdout",
     "output_type": "stream",
     "text": []
    },
    {
     "name": "stdout",
     "output_type": "stream",
     "text": []
    },
    {
     "name": "stdout",
     "output_type": "stream",
     "text": []
    },
    {
     "name": "stdout",
     "output_type": "stream",
     "text": []
    },
    {
     "name": "stdout",
     "output_type": "stream",
     "text": []
    },
    {
     "name": "stdout",
     "output_type": "stream",
     "text": []
    },
    {
     "name": "stdout",
     "output_type": "stream",
     "text": []
    },
    {
     "name": "stdout",
     "output_type": "stream",
     "text": []
    },
    {
     "name": "stdout",
     "output_type": "stream",
     "text": []
    },
    {
     "name": "stdout",
     "output_type": "stream",
     "text": []
    },
    {
     "name": "stdout",
     "output_type": "stream",
     "text": []
    },
    {
     "name": "stdout",
     "output_type": "stream",
     "text": []
    },
    {
     "name": "stdout",
     "output_type": "stream",
     "text": []
    },
    {
     "name": "stdout",
     "output_type": "stream",
     "text": []
    },
    {
     "name": "stdout",
     "output_type": "stream",
     "text": []
    },
    {
     "name": "stdout",
     "output_type": "stream",
     "text": []
    },
    {
     "name": "stdout",
     "output_type": "stream",
     "text": []
    },
    {
     "name": "stdout",
     "output_type": "stream",
     "text": []
    },
    {
     "name": "stdout",
     "output_type": "stream",
     "text": []
    },
    {
     "name": "stdout",
     "output_type": "stream",
     "text": []
    },
    {
     "name": "stdout",
     "output_type": "stream",
     "text": []
    },
    {
     "name": "stdout",
     "output_type": "stream",
     "text": []
    },
    {
     "name": "stdout",
     "output_type": "stream",
     "text": []
    },
    {
     "name": "stdout",
     "output_type": "stream",
     "text": []
    },
    {
     "name": "stdout",
     "output_type": "stream",
     "text": []
    },
    {
     "name": "stdout",
     "output_type": "stream",
     "text": []
    },
    {
     "name": "stdout",
     "output_type": "stream",
     "text": []
    },
    {
     "name": "stdout",
     "output_type": "stream",
     "text": []
    },
    {
     "name": "stdout",
     "output_type": "stream",
     "text": []
    },
    {
     "name": "stdout",
     "output_type": "stream",
     "text": []
    },
    {
     "name": "stdout",
     "output_type": "stream",
     "text": []
    },
    {
     "name": "stdout",
     "output_type": "stream",
     "text": []
    },
    {
     "name": "stdout",
     "output_type": "stream",
     "text": []
    },
    {
     "name": "stdout",
     "output_type": "stream",
     "text": []
    },
    {
     "name": "stdout",
     "output_type": "stream",
     "text": []
    },
    {
     "name": "stdout",
     "output_type": "stream",
     "text": []
    },
    {
     "name": "stdout",
     "output_type": "stream",
     "text": []
    },
    {
     "name": "stdout",
     "output_type": "stream",
     "text": []
    },
    {
     "name": "stdout",
     "output_type": "stream",
     "text": []
    },
    {
     "name": "stdout",
     "output_type": "stream",
     "text": []
    },
    {
     "name": "stdout",
     "output_type": "stream",
     "text": []
    },
    {
     "name": "stdout",
     "output_type": "stream",
     "text": []
    },
    {
     "name": "stdout",
     "output_type": "stream",
     "text": []
    },
    {
     "name": "stdout",
     "output_type": "stream",
     "text": []
    },
    {
     "name": "stdout",
     "output_type": "stream",
     "text": []
    },
    {
     "name": "stdout",
     "output_type": "stream",
     "text": []
    },
    {
     "name": "stdout",
     "output_type": "stream",
     "text": []
    },
    {
     "name": "stdout",
     "output_type": "stream",
     "text": []
    },
    {
     "name": "stdout",
     "output_type": "stream",
     "text": []
    },
    {
     "name": "stdout",
     "output_type": "stream",
     "text": []
    },
    {
     "name": "stdout",
     "output_type": "stream",
     "text": []
    },
    {
     "name": "stdout",
     "output_type": "stream",
     "text": []
    },
    {
     "name": "stdout",
     "output_type": "stream",
     "text": []
    },
    {
     "name": "stdout",
     "output_type": "stream",
     "text": []
    },
    {
     "name": "stdout",
     "output_type": "stream",
     "text": []
    },
    {
     "name": "stdout",
     "output_type": "stream",
     "text": []
    },
    {
     "name": "stdout",
     "output_type": "stream",
     "text": []
    },
    {
     "name": "stdout",
     "output_type": "stream",
     "text": []
    },
    {
     "name": "stdout",
     "output_type": "stream",
     "text": []
    },
    {
     "name": "stdout",
     "output_type": "stream",
     "text": []
    },
    {
     "name": "stdout",
     "output_type": "stream",
     "text": []
    },
    {
     "name": "stdout",
     "output_type": "stream",
     "text": []
    },
    {
     "name": "stdout",
     "output_type": "stream",
     "text": []
    },
    {
     "name": "stdout",
     "output_type": "stream",
     "text": []
    },
    {
     "name": "stdout",
     "output_type": "stream",
     "text": []
    },
    {
     "name": "stdout",
     "output_type": "stream",
     "text": []
    },
    {
     "name": "stdout",
     "output_type": "stream",
     "text": []
    },
    {
     "name": "stdout",
     "output_type": "stream",
     "text": []
    },
    {
     "name": "stdout",
     "output_type": "stream",
     "text": []
    },
    {
     "name": "stdout",
     "output_type": "stream",
     "text": []
    },
    {
     "name": "stdout",
     "output_type": "stream",
     "text": []
    },
    {
     "name": "stdout",
     "output_type": "stream",
     "text": []
    },
    {
     "name": "stdout",
     "output_type": "stream",
     "text": []
    },
    {
     "name": "stdout",
     "output_type": "stream",
     "text": []
    },
    {
     "name": "stdout",
     "output_type": "stream",
     "text": []
    },
    {
     "name": "stdout",
     "output_type": "stream",
     "text": []
    },
    {
     "name": "stdout",
     "output_type": "stream",
     "text": []
    },
    {
     "name": "stdout",
     "output_type": "stream",
     "text": []
    },
    {
     "name": "stdout",
     "output_type": "stream",
     "text": []
    },
    {
     "name": "stdout",
     "output_type": "stream",
     "text": []
    }
   ],
   "source": [
    "##save model and best param\n",
    "model_bestparam={}\n",
    "\n",
    "##Tuning on params\n",
    "for name,model,param in model_param:\n",
    "    np.random.seed(42)\n",
    "    randcvmodel=RandomizedSearchCV(estimator=model,param_distributions=param,cv=3,n_iter=100,verbose=2,n_jobs=-1)\n",
    "    randcvmodel.fit(X_trainprocess,y_trainprocess)\n",
    "    model_bestparam[name]=randcvmodel.best_params_\n",
    "\n",
    "for model_name in model_bestparam:\n",
    "    print(f'{model_name}: {model_bestparam[model_name]}')"
   ]
  },
  {
   "cell_type": "code",
   "execution_count": 53,
   "metadata": {},
   "outputs": [],
   "source": [
    "hyper_models={\n",
    "    'Random Forest': RandomForestClassifier(n_estimators= 100,\n",
    "                                            min_samples_split= 5,\n",
    "                                            max_features= 8,\n",
    "                                            max_depth= 15),\n",
    "\n",
    "'Decision Tree': DecisionTreeClassifier(splitter='random',\n",
    "                                    min_samples_split= 2, \n",
    "                                    min_samples_leaf= 5, \n",
    "                                    max_leaf_nodes= None,\n",
    "                                    max_features= 'sqrt', \n",
    "                                    max_depth= None, \n",
    "                                    criterion='log_loss'),\n",
    "\n",
    "'XGBoost': XGBClassifier(n_estimators= 200, \n",
    "                            max_depth= 12,\n",
    "                            learning_rate= 0.01,\n",
    "                            colsample_bytree= 0.4),\n",
    "\n",
    "'AdaBoost': AdaBoostClassifier(n_estimators= 50,\n",
    "                               learning_rate= 0.5,\n",
    "                                algorithm= 'SAMME'),\n",
    "\n",
    "'GradientBoost': GradientBoostingClassifier(subsample= 1,\n",
    "                                            n_estimators= 50,\n",
    "                                            min_samples_split= 2, \n",
    "                                            min_samples_leaf= 10, \n",
    "                                            max_features= 0.8, \n",
    "                                            max_depth= 3, \n",
    "                                            loss='exponential', \n",
    "                                            learning_rate= 1, \n",
    "                                            criterion='friedman_mse'),\n",
    "\n",
    "'Logistic Regression': LogisticRegression(solver='liblinear', \n",
    "                                          penalty='l1', \n",
    "                                          max_iter= 100, \n",
    "                                          C= 0.1),\n",
    "\n",
    "'SVM': SVC(shrinking= True, \n",
    "      max_iter= 5000, \n",
    "      kernel='poly', \n",
    "      gamma= 1, \n",
    "      C= 10),\n",
    "\n",
    "'KNN': KNeighborsClassifier(weights= 'uniform', \n",
    "      p= 1, \n",
    "      n_neighbors= 10, \n",
    "      n_jobs= -1, \n",
    "      metric= 'chebyshev', \n",
    "      leaf_size= 10, \n",
    "      algorithm= 'brute')}"
   ]
  },
  {
   "cell_type": "code",
   "execution_count": 54,
   "metadata": {},
   "outputs": [
    {
     "name": "stdout",
     "output_type": "stream",
     "text": []
    }
   ],
   "source": [
    "##models with hyperparameters\n",
    "for i in range(len(list(hyper_models))):\n",
    "    model=list(hyper_models.values())[i]\n",
    "    model.fit(X_trainprocess,y_trainprocess)\n",
    "\n",
    "    ##prediction of the model\n",
    "    ##prediction on training set\n",
    "    y_predtrain=model.predict(X_trainprocess)\n",
    "    ##prediction on unseen test set\n",
    "    y_predtest=model.predict(X_testprocess)\n",
    "\n",
    "    ##model evaluation on training set\n",
    "    Train_accuracyscore=accuracy_score(y_predtrain,y_trainprocess)\n",
    "    Train_f1score=f1_score(y_predtrain,y_trainprocess)\n",
    "    Train_recallscore=recall_score(y_predtrain,y_trainprocess)\n",
    "    Train_rocauc_score=roc_auc_score(y_predtrain,y_trainprocess)\n",
    "    Train_precisionscore=precision_score(y_predtrain,y_trainprocess)\n",
    "    Train_ClassReport=classification_report(y_predtrain,y_trainprocess)\n",
    "\n",
    "    ##model evaluation on test set(unseen data)\n",
    "    Test_accuracyscore=accuracy_score(y_testprocess,y_predtest)\n",
    "    Test_recallscore=recall_score(y_testprocess,y_predtest)\n",
    "    Test_f1score=f1_score(y_testprocess,y_predtest)\n",
    "    Test_precisionscore=precision_score(y_testprocess,y_predtest)\n",
    "    Test_rocauc_score=roc_auc_score(y_testprocess,y_predtest)\n",
    "    Test_ClassReport=classification_report(y_testprocess,y_predtest)\n",
    "\n",
    "    print(list(hyper_models.keys())[i])\n",
    "    print(\"Performance Score of the Training set\")\n",
    "    print(f'Accuracy Score: {Train_accuracyscore}')\n",
    "    print(f'F1 Score: {Train_f1score}')\n",
    "    print(f'Recall Score: {Train_recallscore}')\n",
    "    print(f'Precision Score: {Train_precisionscore}')\n",
    "    print(f'ROC/AUC Score: {Train_accuracyscore}')\n",
    "    print(f'Classification Report: {Train_ClassReport}')\n",
    "    print('*'*35,'\\n')\n",
    "\n",
    "    print(\"Performance Score of the Testing set\")\n",
    "    print(f'Accuracy Score: {Test_accuracyscore}')\n",
    "    print(f'F1 Score: {Test_f1score}')\n",
    "    print(f'Recall Score: {Test_recallscore}')\n",
    "    print(f'Precision Score: {Test_precisionscore}')\n",
    "    print(f'ROC/AUC score: {Test_rocauc_score}')\n",
    "    print(f'Classification Report: {Test_ClassReport}')\n",
    "    print('='*35,'\\n')"
   ]
  },
  {
   "cell_type": "markdown",
   "metadata": {},
   "source": [
    "## Model observation \n",
    "### Logistic Regression\n",
    "- Accuracy Score: 0.50675\n",
    "- F1 Score: 0.5210002427773731\n",
    "- Recall Score: 0.5356964553170245\n",
    "- Precision Score: 0.5070888468809074\n",
    "- ROC/AUC score: 0.506706515089659\n",
    "\n",
    "### SVM\n",
    "- Accuracy Score: 0.51225\n",
    "- F1 Score: 0.5544644896094999\n",
    "- Recall Score: 0.6060908637044433\n",
    "- Precision Score: 0.5109427609427609\n",
    "- ROC/AUC score: 0.5121090272453113"
   ]
  },
  {
   "cell_type": "code",
   "execution_count": 55,
   "metadata": {},
   "outputs": [],
   "source": [
    "svm_params = {\n",
    "    'C': [0.01, 0.1, 1, 10, 100],  # Keep range, but add lower values for better regularization\n",
    "    'kernel': ['rbf', 'linear'],  # 'rbf' and 'linear' work best for most classification tasks\n",
    "    'gamma': [0.0001, 0.001, 0.01, 0.1, 1],  # Remove large gamma values to prevent overfitting\n",
    "    'max_iter': [5000],  # 5000 is sufficient in most cases\n",
    "    'shrinking': [True],  # Shrinking heuristics usually improve performance\n",
    "}"
   ]
  },
  {
   "cell_type": "code",
   "execution_count": null,
   "metadata": {},
   "outputs": [
    {
     "name": "stdout",
     "output_type": "stream",
     "text": []
    },
    {
     "name": "stdout",
     "output_type": "stream",
     "text": []
    },
    {
     "name": "stdout",
     "output_type": "stream",
     "text": []
    },
    {
     "name": "stdout",
     "output_type": "stream",
     "text": []
    },
    {
     "name": "stdout",
     "output_type": "stream",
     "text": []
    },
    {
     "name": "stdout",
     "output_type": "stream",
     "text": []
    },
    {
     "name": "stdout",
     "output_type": "stream",
     "text": []
    },
    {
     "name": "stdout",
     "output_type": "stream",
     "text": []
    },
    {
     "name": "stdout",
     "output_type": "stream",
     "text": []
    },
    {
     "name": "stdout",
     "output_type": "stream",
     "text": []
    },
    {
     "name": "stdout",
     "output_type": "stream",
     "text": []
    },
    {
     "name": "stdout",
     "output_type": "stream",
     "text": []
    },
    {
     "name": "stdout",
     "output_type": "stream",
     "text": []
    },
    {
     "name": "stdout",
     "output_type": "stream",
     "text": []
    },
    {
     "name": "stdout",
     "output_type": "stream",
     "text": []
    },
    {
     "name": "stdout",
     "output_type": "stream",
     "text": []
    },
    {
     "name": "stdout",
     "output_type": "stream",
     "text": []
    },
    {
     "name": "stdout",
     "output_type": "stream",
     "text": []
    },
    {
     "name": "stdout",
     "output_type": "stream",
     "text": []
    },
    {
     "name": "stdout",
     "output_type": "stream",
     "text": []
    },
    {
     "name": "stdout",
     "output_type": "stream",
     "text": []
    },
    {
     "name": "stdout",
     "output_type": "stream",
     "text": []
    },
    {
     "name": "stdout",
     "output_type": "stream",
     "text": []
    },
    {
     "name": "stdout",
     "output_type": "stream",
     "text": []
    },
    {
     "name": "stdout",
     "output_type": "stream",
     "text": []
    },
    {
     "name": "stdout",
     "output_type": "stream",
     "text": []
    },
    {
     "name": "stdout",
     "output_type": "stream",
     "text": []
    },
    {
     "name": "stdout",
     "output_type": "stream",
     "text": []
    },
    {
     "name": "stdout",
     "output_type": "stream",
     "text": []
    },
    {
     "name": "stdout",
     "output_type": "stream",
     "text": []
    },
    {
     "name": "stdout",
     "output_type": "stream",
     "text": []
    },
    {
     "name": "stdout",
     "output_type": "stream",
     "text": []
    },
    {
     "name": "stdout",
     "output_type": "stream",
     "text": []
    },
    {
     "name": "stdout",
     "output_type": "stream",
     "text": []
    },
    {
     "name": "stdout",
     "output_type": "stream",
     "text": []
    },
    {
     "name": "stdout",
     "output_type": "stream",
     "text": []
    },
    {
     "name": "stdout",
     "output_type": "stream",
     "text": []
    },
    {
     "name": "stdout",
     "output_type": "stream",
     "text": []
    },
    {
     "name": "stdout",
     "output_type": "stream",
     "text": []
    },
    {
     "name": "stdout",
     "output_type": "stream",
     "text": []
    },
    {
     "name": "stdout",
     "output_type": "stream",
     "text": []
    },
    {
     "name": "stdout",
     "output_type": "stream",
     "text": []
    },
    {
     "name": "stdout",
     "output_type": "stream",
     "text": []
    },
    {
     "name": "stdout",
     "output_type": "stream",
     "text": []
    },
    {
     "name": "stdout",
     "output_type": "stream",
     "text": []
    },
    {
     "name": "stdout",
     "output_type": "stream",
     "text": []
    },
    {
     "name": "stdout",
     "output_type": "stream",
     "text": []
    },
    {
     "name": "stdout",
     "output_type": "stream",
     "text": []
    },
    {
     "name": "stdout",
     "output_type": "stream",
     "text": []
    },
    {
     "name": "stdout",
     "output_type": "stream",
     "text": []
    },
    {
     "name": "stdout",
     "output_type": "stream",
     "text": []
    },
    {
     "name": "stdout",
     "output_type": "stream",
     "text": []
    },
    {
     "name": "stdout",
     "output_type": "stream",
     "text": []
    },
    {
     "name": "stdout",
     "output_type": "stream",
     "text": []
    },
    {
     "name": "stdout",
     "output_type": "stream",
     "text": []
    },
    {
     "name": "stdout",
     "output_type": "stream",
     "text": []
    },
    {
     "name": "stdout",
     "output_type": "stream",
     "text": []
    },
    {
     "name": "stdout",
     "output_type": "stream",
     "text": []
    },
    {
     "name": "stdout",
     "output_type": "stream",
     "text": []
    },
    {
     "name": "stdout",
     "output_type": "stream",
     "text": []
    },
    {
     "name": "stdout",
     "output_type": "stream",
     "text": []
    },
    {
     "name": "stdout",
     "output_type": "stream",
     "text": []
    },
    {
     "name": "stdout",
     "output_type": "stream",
     "text": []
    },
    {
     "name": "stdout",
     "output_type": "stream",
     "text": []
    },
    {
     "name": "stdout",
     "output_type": "stream",
     "text": []
    },
    {
     "name": "stdout",
     "output_type": "stream",
     "text": []
    },
    {
     "name": "stdout",
     "output_type": "stream",
     "text": []
    },
    {
     "name": "stdout",
     "output_type": "stream",
     "text": []
    },
    {
     "name": "stdout",
     "output_type": "stream",
     "text": []
    },
    {
     "name": "stdout",
     "output_type": "stream",
     "text": []
    },
    {
     "name": "stdout",
     "output_type": "stream",
     "text": []
    },
    {
     "name": "stdout",
     "output_type": "stream",
     "text": []
    },
    {
     "name": "stdout",
     "output_type": "stream",
     "text": []
    },
    {
     "name": "stdout",
     "output_type": "stream",
     "text": []
    },
    {
     "name": "stdout",
     "output_type": "stream",
     "text": []
    },
    {
     "name": "stdout",
     "output_type": "stream",
     "text": []
    },
    {
     "name": "stdout",
     "output_type": "stream",
     "text": []
    },
    {
     "name": "stdout",
     "output_type": "stream",
     "text": []
    },
    {
     "name": "stdout",
     "output_type": "stream",
     "text": []
    },
    {
     "name": "stdout",
     "output_type": "stream",
     "text": []
    },
    {
     "name": "stdout",
     "output_type": "stream",
     "text": []
    },
    {
     "name": "stdout",
     "output_type": "stream",
     "text": []
    },
    {
     "name": "stdout",
     "output_type": "stream",
     "text": []
    },
    {
     "name": "stdout",
     "output_type": "stream",
     "text": []
    },
    {
     "name": "stdout",
     "output_type": "stream",
     "text": []
    },
    {
     "name": "stdout",
     "output_type": "stream",
     "text": []
    },
    {
     "name": "stdout",
     "output_type": "stream",
     "text": []
    },
    {
     "name": "stdout",
     "output_type": "stream",
     "text": []
    },
    {
     "name": "stdout",
     "output_type": "stream",
     "text": []
    },
    {
     "name": "stdout",
     "output_type": "stream",
     "text": []
    },
    {
     "name": "stdout",
     "output_type": "stream",
     "text": []
    },
    {
     "name": "stdout",
     "output_type": "stream",
     "text": []
    },
    {
     "name": "stdout",
     "output_type": "stream",
     "text": []
    },
    {
     "name": "stdout",
     "output_type": "stream",
     "text": []
    },
    {
     "name": "stdout",
     "output_type": "stream",
     "text": []
    },
    {
     "name": "stdout",
     "output_type": "stream",
     "text": []
    },
    {
     "name": "stdout",
     "output_type": "stream",
     "text": []
    },
    {
     "name": "stdout",
     "output_type": "stream",
     "text": []
    },
    {
     "name": "stdout",
     "output_type": "stream",
     "text": []
    },
    {
     "name": "stdout",
     "output_type": "stream",
     "text": []
    },
    {
     "name": "stdout",
     "output_type": "stream",
     "text": []
    },
    {
     "name": "stdout",
     "output_type": "stream",
     "text": []
    },
    {
     "name": "stdout",
     "output_type": "stream",
     "text": []
    },
    {
     "name": "stdout",
     "output_type": "stream",
     "text": []
    },
    {
     "name": "stdout",
     "output_type": "stream",
     "text": []
    },
    {
     "name": "stdout",
     "output_type": "stream",
     "text": []
    },
    {
     "name": "stdout",
     "output_type": "stream",
     "text": []
    },
    {
     "name": "stdout",
     "output_type": "stream",
     "text": []
    },
    {
     "name": "stdout",
     "output_type": "stream",
     "text": []
    },
    {
     "name": "stdout",
     "output_type": "stream",
     "text": []
    },
    {
     "name": "stdout",
     "output_type": "stream",
     "text": []
    },
    {
     "name": "stdout",
     "output_type": "stream",
     "text": []
    },
    {
     "name": "stdout",
     "output_type": "stream",
     "text": []
    },
    {
     "name": "stdout",
     "output_type": "stream",
     "text": []
    },
    {
     "name": "stdout",
     "output_type": "stream",
     "text": []
    },
    {
     "name": "stdout",
     "output_type": "stream",
     "text": []
    },
    {
     "name": "stdout",
     "output_type": "stream",
     "text": []
    },
    {
     "name": "stdout",
     "output_type": "stream",
     "text": []
    },
    {
     "name": "stdout",
     "output_type": "stream",
     "text": []
    },
    {
     "name": "stdout",
     "output_type": "stream",
     "text": []
    },
    {
     "name": "stdout",
     "output_type": "stream",
     "text": []
    },
    {
     "name": "stdout",
     "output_type": "stream",
     "text": []
    },
    {
     "name": "stdout",
     "output_type": "stream",
     "text": []
    },
    {
     "name": "stdout",
     "output_type": "stream",
     "text": []
    },
    {
     "name": "stdout",
     "output_type": "stream",
     "text": []
    },
    {
     "name": "stdout",
     "output_type": "stream",
     "text": []
    },
    {
     "name": "stdout",
     "output_type": "stream",
     "text": []
    },
    {
     "name": "stdout",
     "output_type": "stream",
     "text": []
    },
    {
     "name": "stdout",
     "output_type": "stream",
     "text": []
    },
    {
     "name": "stdout",
     "output_type": "stream",
     "text": []
    },
    {
     "name": "stdout",
     "output_type": "stream",
     "text": []
    },
    {
     "name": "stdout",
     "output_type": "stream",
     "text": []
    },
    {
     "name": "stdout",
     "output_type": "stream",
     "text": []
    },
    {
     "name": "stdout",
     "output_type": "stream",
     "text": []
    },
    {
     "name": "stdout",
     "output_type": "stream",
     "text": []
    },
    {
     "name": "stdout",
     "output_type": "stream",
     "text": []
    },
    {
     "name": "stdout",
     "output_type": "stream",
     "text": []
    },
    {
     "name": "stdout",
     "output_type": "stream",
     "text": []
    },
    {
     "name": "stdout",
     "output_type": "stream",
     "text": []
    }
   ],
   "source": [
    "svm=SVC()\n",
    "rnd=RandomizedSearchCV(estimator=svm,param_distributions=svm_params,cv=3,n_iter=100,verbose=2,n_jobs=-1)\n",
    "rnd.fit(X_trainprocess,y_trainprocess)"
   ]
  },
  {
   "cell_type": "code",
   "execution_count": 57,
   "metadata": {},
   "outputs": [
    {
     "name": "stdout",
     "output_type": "stream",
     "text": []
    }
   ],
   "source": [
    "rnd.best_params_"
   ]
  },
  {
   "cell_type": "code",
   "execution_count": 59,
   "metadata": {},
   "outputs": [
    {
     "name": "stdout",
     "output_type": "stream",
     "text": []
    }
   ],
   "source": [
    "SVM_model=SVC(shrinking= True, \n",
    "      max_iter= 5000, \n",
    "      kernel='poly', \n",
    "      gamma= 1, \n",
    "      C= 10)\n",
    "\n",
    "SVM_model.fit(X_trainprocess,y_trainprocess)\n",
    "y_predtrain=SVM_model.predict(X_trainprocess)\n",
    "    ##prediction on unseen test set\n",
    "y_predtest=SVM_model.predict(X_testprocess)\n",
    "\n",
    "Test_accuracyscore=accuracy_score(y_testprocess,y_predtest)\n",
    "Test_recallscore=recall_score(y_testprocess,y_predtest)\n",
    "Test_f1score=f1_score(y_testprocess,y_predtest)\n",
    "Test_precisionscore=precision_score(y_testprocess,y_predtest)\n",
    "Test_rocauc_score=roc_auc_score(y_testprocess,y_predtest)\n",
    "Test_ClassReport=classification_report(y_testprocess,y_predtest)\n",
    "\n",
    "print(Test_accuracyscore)\n",
    "print(Test_recallscore)\n",
    "print(Test_f1score)\n",
    "print(Test_precisionscore)\n",
    "print(Test_rocauc_score)\n",
    "print(Test_ClassReport)"
   ]
  },
  {
   "cell_type": "code",
   "execution_count": null,
   "metadata": {},
   "outputs": [],
   "source": []
  }
 ],
 "metadata": {
  "kernelspec": {
   "display_name": "myenv",
   "language": "python",
   "name": "python3"
  },
  "language_info": {
   "codemirror_mode": {
    "name": "ipython",
    "version": 3
   },
   "file_extension": ".py",
   "mimetype": "text/x-python",
   "name": "python",
   "nbconvert_exporter": "python",
   "pygments_lexer": "ipython3",
   "version": "3.12.4"
  }
 },
 "nbformat": 4,
 "nbformat_minor": 2
}
